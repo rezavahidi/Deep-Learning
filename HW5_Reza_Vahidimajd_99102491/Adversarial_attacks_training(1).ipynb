{
  "cells": [
    {
      "cell_type": "markdown",
      "metadata": {
        "id": "5Zxk2zEwJ4Ky"
      },
      "source": [
        "<center><h1>In the name of Allah</h1></center>"
      ]
    },
    {
      "cell_type": "markdown",
      "metadata": {
        "id": "6ugL0MZ-J4K1"
      },
      "source": [
        "Name: Reza Vahidimajd\n",
        "\n",
        "Student Number: 99102491"
      ]
    },
    {
      "cell_type": "markdown",
      "metadata": {
        "id": "f8plnfnaJ4K1"
      },
      "source": [
        "In this notebook, you will explore adversarial attacks and training methods in deep learning. First, you will train a simple model, ResNet18, on the CIFAR-10 dataset. Next, you will learn about two different adversarial attacks: FGSM (Fast Gradient Sign Method) and PGD (Projected Gradient Descent). To enhance your understanding, you will implement the PGD attack from scratch, while the FGSM attack will be implemented using a library. After this, you will use the FGSM attack to generate adversarial examples and then perform adversarial training on the model using the CIFAR-10 dataset. Finally, you will compare the performance and robustness of the adversarially trained model with the original model.\n",
        "\n",
        "Good luck!"
      ]
    },
    {
      "cell_type": "markdown",
      "metadata": {
        "id": "Ye6-1a0YJ4K2"
      },
      "source": [
        "## outline\n",
        "- Train Resnet on CIFAR10\n",
        "- FGSM Attack using torchattacks\n",
        "- PGD Attack from scratch\n",
        "- Visualization\n",
        "- Adversarial Training\n"
      ]
    },
    {
      "cell_type": "code",
      "execution_count": 3,
      "metadata": {
        "id": "IFYjCag_J4K2"
      },
      "outputs": [],
      "source": [
        "import torch\n",
        "import torchvision\n",
        "import torchvision.transforms as transforms\n",
        "from torchvision.models import resnet18\n",
        "import torch.nn as nn\n",
        "import torch.nn.functional as F\n",
        "import torch.optim as optim\n",
        "import numpy as np\n",
        "from torch.autograd import Variable\n",
        "from tqdm import tqdm"
      ]
    },
    {
      "cell_type": "code",
      "execution_count": 4,
      "metadata": {
        "colab": {
          "base_uri": "https://localhost:8080/"
        },
        "id": "WImW9bWnJ4K3",
        "outputId": "4a9dc7d3-8ac5-442a-e11d-7b3df08abebd"
      },
      "outputs": [
        {
          "name": "stdout",
          "output_type": "stream",
          "text": [
            "cuda:0\n"
          ]
        }
      ],
      "source": [
        "device = 'cuda:0' if torch.cuda.is_available() else 'cpu'\n",
        "print(device)"
      ]
    },
    {
      "cell_type": "markdown",
      "metadata": {
        "id": "3S1pzbl7J4K4"
      },
      "source": [
        "## Train Resnet on CIFAR10 (15 pts)"
      ]
    },
    {
      "cell_type": "code",
      "execution_count": 5,
      "metadata": {
        "colab": {
          "base_uri": "https://localhost:8080/"
        },
        "id": "wa9G9hHGJ4K4",
        "outputId": "d3be9478-1ce3-4058-9f33-d5a982a6d10b"
      },
      "outputs": [
        {
          "name": "stdout",
          "output_type": "stream",
          "text": [
            "Files already downloaded and verified\n",
            "Files already downloaded and verified\n"
          ]
        }
      ],
      "source": [
        "# Prepare Cifar10 data\n",
        "batch_size = 128\n",
        "transform = transforms.Compose([transforms.ToTensor(),])\n",
        "\n",
        "##############################################################################\n",
        "# Prepare training and test datasets and dataloaders                         #\n",
        "##############################################################################\n",
        "trainset = torchvision.datasets.CIFAR10(root='./data', train=True, download=True, transform=transform)\n",
        "trainloader = torch.utils.data.DataLoader(trainset, batch_size=batch_size, shuffle=True, num_workers=2)\n",
        "testset = torchvision.datasets.CIFAR10(root='./data', train=False, download=True, transform=transform)\n",
        "testloader = torch.utils.data.DataLoader(testset, batch_size=batch_size, shuffle=False, num_workers=2)\n",
        "################################ End #########################################\n",
        "\n",
        "classes = ('plane', 'car', 'bird', 'cat', 'deer', 'dog', 'frog', 'horse', 'ship', 'truck')"
      ]
    },
    {
      "cell_type": "code",
      "execution_count": 6,
      "metadata": {
        "id": "jIY57y8tJ4K5"
      },
      "outputs": [],
      "source": [
        "# model architecture\n",
        "class resnet(nn.Module):\n",
        "  def __init__(self, num_cls):\n",
        "    super().__init__()\n",
        "    self.conv = nn.Sequential(*list(resnet18(weights=None).children())[:-2])\n",
        "    self.fc = nn.Linear(512, num_cls)\n",
        "\n",
        "  def forward(self, x):\n",
        "    x = self.conv(x)\n",
        "    x = torch.flatten(x, start_dim=1)\n",
        "    logits = self.fc(x)\n",
        "    return logits\n",
        "\n",
        "##############################################################################\n",
        "# Initialize model and move to device                                        #\n",
        "##############################################################################\n",
        "model = resnet(num_cls=10).to(device)\n",
        "\n",
        "################################ End #########################################"
      ]
    },
    {
      "cell_type": "code",
      "execution_count": 8,
      "metadata": {
        "id": "3Ili0yvFJ4K7"
      },
      "outputs": [],
      "source": [
        "learning_rate = 0.01\n",
        "criterion = nn.CrossEntropyLoss()\n",
        "optimizer = optim.SGD(model.parameters(), lr=learning_rate, momentum=0.9)\n",
        "epochs = 100"
      ]
    },
    {
      "cell_type": "code",
      "execution_count": 9,
      "metadata": {
        "colab": {
          "base_uri": "https://localhost:8080/"
        },
        "id": "UCXb4ChZJ4K7",
        "outputId": "035f4d41-deb2-428b-a6e3-b893d3152551"
      },
      "outputs": [
        {
          "name": "stdout",
          "output_type": "stream",
          "text": [
            "Epoch 1, Loss: 1.5266959717511521\n",
            "Epoch 2, Loss: 1.1063767145661747\n",
            "Epoch 3, Loss: 0.9021100385109787\n",
            "Epoch 4, Loss: 0.7574721647955268\n",
            "Epoch 5, Loss: 0.6424690129811806\n",
            "Epoch 6, Loss: 0.538284947652646\n",
            "Epoch 7, Loss: 0.4505651213247758\n",
            "Epoch 8, Loss: 0.3640314477026615\n",
            "Epoch 9, Loss: 0.3032210869023867\n",
            "Epoch 10, Loss: 0.2482031545866176\n",
            "Epoch 11, Loss: 0.1957485414660343\n",
            "Epoch 12, Loss: 0.1794264064553906\n",
            "Epoch 13, Loss: 0.12854570984992836\n",
            "Epoch 14, Loss: 0.11504154371293\n",
            "Epoch 15, Loss: 0.0992951709062547\n",
            "Epoch 16, Loss: 0.09096886111361444\n",
            "Epoch 17, Loss: 0.0725732482636295\n",
            "Epoch 18, Loss: 0.06839044120810601\n",
            "Epoch 19, Loss: 0.05178186815241566\n",
            "Epoch 20, Loss: 0.06372897059458982\n",
            "Epoch 21, Loss: 0.05140955358162484\n",
            "Epoch 22, Loss: 0.044897666607109254\n",
            "Epoch 23, Loss: 0.04149491698516871\n",
            "Epoch 24, Loss: 0.02736978224196407\n",
            "Epoch 25, Loss: 0.028630336870432205\n",
            "Epoch 26, Loss: 0.030164436974307842\n",
            "Epoch 27, Loss: 0.029721924260108615\n",
            "Epoch 28, Loss: 0.03019047557236984\n",
            "Epoch 29, Loss: 0.023539529049523708\n",
            "Epoch 30, Loss: 0.023147358598373354\n",
            "Epoch 31, Loss: 0.0161009170671763\n",
            "Epoch 32, Loss: 0.017426338629312383\n",
            "Epoch 33, Loss: 0.017176520953680177\n",
            "Epoch 34, Loss: 0.02016901862203165\n",
            "Epoch 35, Loss: 0.022929758961905567\n",
            "Epoch 36, Loss: 0.016170053266148413\n",
            "Epoch 37, Loss: 0.016528570480719734\n",
            "Epoch 38, Loss: 0.014872373631515818\n",
            "Epoch 39, Loss: 0.009578628626609187\n",
            "Epoch 40, Loss: 0.011014783643702666\n",
            "Epoch 41, Loss: 0.02028897073311324\n",
            "Epoch 42, Loss: 0.013091920220586079\n",
            "Epoch 43, Loss: 0.008932206359797018\n",
            "Epoch 44, Loss: 0.010237364431672261\n",
            "Epoch 45, Loss: 0.013319176731749064\n",
            "Epoch 46, Loss: 0.013230032708687597\n",
            "Epoch 47, Loss: 0.010517786616263578\n",
            "Epoch 48, Loss: 0.007698661733410962\n",
            "Epoch 49, Loss: 0.009588500560263393\n",
            "Epoch 50, Loss: 0.006872366043183592\n",
            "Epoch 51, Loss: 0.007935326447432904\n",
            "Epoch 52, Loss: 0.006375174040642932\n",
            "Epoch 53, Loss: 0.006874323085862565\n",
            "Epoch 54, Loss: 0.0058751239564263525\n",
            "Epoch 55, Loss: 0.004999861488185535\n",
            "Epoch 56, Loss: 0.005598282066236079\n",
            "Epoch 57, Loss: 0.008570089765113231\n",
            "Epoch 58, Loss: 0.010900880262838341\n",
            "Epoch 59, Loss: 0.011685099334643899\n",
            "Epoch 60, Loss: 0.010740540951350169\n",
            "Epoch 61, Loss: 0.010760778139377801\n",
            "Epoch 62, Loss: 0.00980652299012317\n",
            "Epoch 63, Loss: 0.006374820332226577\n",
            "Epoch 64, Loss: 0.004549370995392818\n",
            "Epoch 65, Loss: 0.0032172938122979307\n",
            "Epoch 66, Loss: 0.0028042655937713656\n",
            "Epoch 67, Loss: 0.0022320188498995736\n",
            "Epoch 68, Loss: 0.0010810750010532594\n",
            "Epoch 69, Loss: 0.0008291321743384629\n",
            "Epoch 70, Loss: 0.000620151556509635\n",
            "Epoch 71, Loss: 0.0003691967920419518\n",
            "Epoch 72, Loss: 0.00021118794255905397\n",
            "Epoch 73, Loss: 0.00021959840677589134\n",
            "Epoch 74, Loss: 0.00015225057965610102\n",
            "Epoch 75, Loss: 0.00022905704958878318\n",
            "Epoch 76, Loss: 8.603230006734809e-05\n",
            "Epoch 77, Loss: 0.00011352376140331749\n",
            "Epoch 78, Loss: 9.098981327344955e-05\n",
            "Epoch 79, Loss: 8.64479473053423e-05\n",
            "Epoch 80, Loss: 0.00010639938178635586\n",
            "Epoch 81, Loss: 5.5382582114243235e-05\n",
            "Epoch 82, Loss: 4.495296143202215e-05\n",
            "Epoch 83, Loss: 4.95794770911213e-05\n",
            "Epoch 84, Loss: 3.637372562957876e-05\n",
            "Epoch 85, Loss: 4.7433417447584703e-05\n",
            "Epoch 86, Loss: 3.395481495286252e-05\n",
            "Epoch 87, Loss: 3.2714955792503864e-05\n",
            "Epoch 88, Loss: 3.588046232569868e-05\n",
            "Epoch 89, Loss: 2.477063318404843e-05\n",
            "Epoch 90, Loss: 2.2480597204971522e-05\n",
            "Epoch 91, Loss: 3.7200010252279084e-05\n",
            "Epoch 92, Loss: 3.7630668093802425e-05\n",
            "Epoch 93, Loss: 3.5899781747605204e-05\n",
            "Epoch 94, Loss: 2.4478039586261507e-05\n",
            "Epoch 95, Loss: 2.5985805474969512e-05\n",
            "Epoch 96, Loss: 2.3376502555582616e-05\n",
            "Epoch 97, Loss: 1.9191971013390143e-05\n",
            "Epoch 98, Loss: 2.6247111719540114e-05\n",
            "Epoch 99, Loss: 2.1177484737811374e-05\n",
            "Epoch 100, Loss: 1.8631717702147768e-05\n"
          ]
        }
      ],
      "source": [
        "##############################################################################\n",
        "# Implement train loop and log training loss after each epoch                #\n",
        "##############################################################################\n",
        "\n",
        "\n",
        "def train(model, trainloader, criterion, optimizer, device, epochs=100):\n",
        "    for epoch in range(epochs):\n",
        "        running_loss = 0.0\n",
        "        for i, data in enumerate(trainloader, 0):\n",
        "            inputs, labels = data\n",
        "            inputs, labels = inputs.to(device), labels.to(device)\n",
        "\n",
        "            optimizer.zero_grad()\n",
        "\n",
        "            outputs = model(inputs)\n",
        "            loss = criterion(outputs, labels)\n",
        "            loss.backward()\n",
        "            optimizer.step()\n",
        "\n",
        "            running_loss += loss.item()\n",
        "        print(f'Epoch {epoch + 1}, Loss: {running_loss / len(trainloader)}')\n",
        "        running_loss = 0.0\n",
        "\n",
        "\n",
        "train(model, trainloader, criterion, optimizer, device, epochs)\n",
        "\n",
        "\n",
        "\n",
        "\n",
        "################################ End #########################################"
      ]
    },
    {
      "cell_type": "code",
      "execution_count": 10,
      "metadata": {
        "colab": {
          "base_uri": "https://localhost:8080/"
        },
        "id": "-1W2h3DhJ4K8",
        "outputId": "5f6ad45c-1aee-4bcd-a4a1-d639035eeefe"
      },
      "outputs": [
        {
          "name": "stdout",
          "output_type": "stream",
          "text": [
            "test accuracy: 75.4%\n"
          ]
        }
      ],
      "source": [
        "##############################################################################\n",
        "# Evaluate the trained model on test set and print test accuracy             #\n",
        "##############################################################################\n",
        "\n",
        "def test(model, testloader, device):\n",
        "    model.eval()\n",
        "    correct = 0\n",
        "    total = 0\n",
        "    with torch.no_grad():\n",
        "        for data in testloader:\n",
        "            images, labels = data\n",
        "            images, labels = images.to(device), labels.to(device)\n",
        "            outputs = model(images)\n",
        "            predicted = torch.argmax(outputs, dim=1)\n",
        "            total += labels.shape[0]\n",
        "            correct += (predicted == labels).sum().item()\n",
        "\n",
        "    print(f'test accuracy: {100 * correct / total}%')\n",
        "\n",
        "test(model, testloader, device)\n",
        "\n",
        "################################ End #########################################"
      ]
    },
    {
      "cell_type": "code",
      "execution_count": 11,
      "metadata": {
        "id": "-imo5IMsJ4K8"
      },
      "outputs": [],
      "source": [
        "# Save model\n",
        "model.eval()\n",
        "model_name = \"resnet18_cifar10_model_pretrained.pth\"\n",
        "model_PATH = f\"{model_name}\"\n",
        "torch.save(model.state_dict(), model_PATH)"
      ]
    },
    {
      "cell_type": "markdown",
      "metadata": {
        "id": "01kLV2IHJ4K9"
      },
      "source": [
        "## FGSM Attack using torchattacks (10 pts)"
      ]
    },
    {
      "cell_type": "code",
      "execution_count": 9,
      "metadata": {
        "id": "_o0oQjGWIIy0"
      },
      "outputs": [],
      "source": [
        "model = resnet(num_cls=10)\n",
        "model.load_state_dict(torch.load(\"/content/drive/MyDrive/resnet18_cifar10_model_pretrained.pth\", map_location=torch.device('cpu')))\n",
        "model = model.to(device)"
      ]
    },
    {
      "cell_type": "markdown",
      "metadata": {
        "id": "tvB0lOFIJ4K9"
      },
      "source": [
        "In this section you should run FGSM attack using torchattacks library (https://adversarial-attacks-pytorch.readthedocs.io/en/latest/index.html).\n",
        "\n",
        "Run the attack for $\\epsilon \\in \\{\\frac{1}{255}, \\frac{4}{255}, \\frac{8}{255},\\}$ report the performance of the model on untargeted FGSM attack on the test data."
      ]
    },
    {
      "cell_type": "code",
      "execution_count": 12,
      "metadata": {
        "colab": {
          "base_uri": "https://localhost:8080/",
          "height": 1000
        },
        "id": "M6aYAgMHjzN2",
        "outputId": "2f084a60-ebf2-4ccf-e8bd-c421546cb2f0"
      },
      "outputs": [
        {
          "name": "stdout",
          "output_type": "stream",
          "text": [
            "\u001b[33mWARNING: Skipping /home/mmd/miniconda3/envs/clip-project/lib/python3.11/site-packages/torch-2.2.0.dist-info due to invalid metadata entry 'name'\u001b[0m\u001b[33m\n",
            "\u001b[0m\u001b[33mWARNING: Skipping /home/mmd/miniconda3/envs/clip-project/lib/python3.11/site-packages/torch-2.2.0.dist-info due to invalid metadata entry 'name'\u001b[0m\u001b[33m\n",
            "\u001b[0mRequirement already satisfied: torchattacks in ./miniconda3/envs/clip-project/lib/python3.11/site-packages (3.5.1)\n",
            "Requirement already satisfied: torch>=1.7.1 in ./miniconda3/envs/clip-project/lib/python3.11/site-packages (from torchattacks) (2.3.1)\n",
            "Requirement already satisfied: torchvision>=0.8.2 in ./miniconda3/envs/clip-project/lib/python3.11/site-packages (from torchattacks) (0.18.1)\n",
            "Requirement already satisfied: scipy>=0.14.0 in ./miniconda3/envs/clip-project/lib/python3.11/site-packages (from torchattacks) (1.12.0)\n",
            "Requirement already satisfied: tqdm>=4.56.1 in ./miniconda3/envs/clip-project/lib/python3.11/site-packages (from torchattacks) (4.66.4)\n",
            "Requirement already satisfied: requests~=2.25.1 in ./miniconda3/envs/clip-project/lib/python3.11/site-packages (from torchattacks) (2.25.1)\n",
            "Requirement already satisfied: numpy>=1.19.4 in ./miniconda3/envs/clip-project/lib/python3.11/site-packages (from torchattacks) (1.26.4)\n",
            "Requirement already satisfied: chardet<5,>=3.0.2 in ./miniconda3/envs/clip-project/lib/python3.11/site-packages (from requests~=2.25.1->torchattacks) (4.0.0)\n",
            "Requirement already satisfied: idna<3,>=2.5 in ./miniconda3/envs/clip-project/lib/python3.11/site-packages (from requests~=2.25.1->torchattacks) (2.10)\n",
            "Requirement already satisfied: urllib3<1.27,>=1.21.1 in ./miniconda3/envs/clip-project/lib/python3.11/site-packages (from requests~=2.25.1->torchattacks) (1.26.19)\n",
            "Requirement already satisfied: certifi>=2017.4.17 in ./miniconda3/envs/clip-project/lib/python3.11/site-packages (from requests~=2.25.1->torchattacks) (2024.6.2)\n",
            "Requirement already satisfied: filelock in ./miniconda3/envs/clip-project/lib/python3.11/site-packages (from torch>=1.7.1->torchattacks) (3.13.1)\n",
            "Requirement already satisfied: typing-extensions>=4.8.0 in ./miniconda3/envs/clip-project/lib/python3.11/site-packages (from torch>=1.7.1->torchattacks) (4.11.0)\n",
            "Requirement already satisfied: sympy in ./miniconda3/envs/clip-project/lib/python3.11/site-packages (from torch>=1.7.1->torchattacks) (1.12)\n",
            "Requirement already satisfied: networkx in ./miniconda3/envs/clip-project/lib/python3.11/site-packages (from torch>=1.7.1->torchattacks) (3.2.1)\n",
            "Requirement already satisfied: jinja2 in ./miniconda3/envs/clip-project/lib/python3.11/site-packages (from torch>=1.7.1->torchattacks) (3.1.3)\n",
            "Requirement already satisfied: fsspec in ./miniconda3/envs/clip-project/lib/python3.11/site-packages (from torch>=1.7.1->torchattacks) (2024.2.0)\n",
            "Requirement already satisfied: pillow!=8.3.*,>=5.3.0 in ./miniconda3/envs/clip-project/lib/python3.11/site-packages (from torchvision>=0.8.2->torchattacks) (10.2.0)\n",
            "Requirement already satisfied: MarkupSafe>=2.0 in ./miniconda3/envs/clip-project/lib/python3.11/site-packages (from jinja2->torch>=1.7.1->torchattacks) (2.1.5)\n",
            "Requirement already satisfied: mpmath>=0.19 in ./miniconda3/envs/clip-project/lib/python3.11/site-packages (from sympy->torch>=1.7.1->torchattacks) (1.3.0)\n",
            "\u001b[33mWARNING: Skipping /home/mmd/miniconda3/envs/clip-project/lib/python3.11/site-packages/torch-2.2.0.dist-info due to invalid metadata entry 'name'\u001b[0m\u001b[33m\n",
            "\u001b[0m\u001b[33mWARNING: Skipping /home/mmd/miniconda3/envs/clip-project/lib/python3.11/site-packages/torch-2.2.0.dist-info due to invalid metadata entry 'name'\u001b[0m\u001b[33m\n",
            "\u001b[0m\u001b[33mWARNING: Skipping /home/mmd/miniconda3/envs/clip-project/lib/python3.11/site-packages/torch-2.2.0.dist-info due to invalid metadata entry 'name'\u001b[0m\u001b[33m\n",
            "\u001b[0m\u001b[33mWARNING: Skipping /home/mmd/miniconda3/envs/clip-project/lib/python3.11/site-packages/torch-2.2.0.dist-info due to invalid metadata entry 'name'\u001b[0m\u001b[33m\n",
            "\u001b[0m"
          ]
        }
      ],
      "source": [
        "!pip install torchattacks"
      ]
    },
    {
      "cell_type": "code",
      "execution_count": 13,
      "metadata": {
        "colab": {
          "base_uri": "https://localhost:8080/"
        },
        "id": "hnWHFvGsJ4K9",
        "outputId": "a021a079-69e0-4872-8457-d003085d20d4"
      },
      "outputs": [
        {
          "name": "stdout",
          "output_type": "stream",
          "text": [
            "Epsilon: 0.003922, Accuracy: 53.69\n"
          ]
        }
      ],
      "source": [
        "##############################################################################\n",
        "# run untargeted FGSM attack for epsilon = 1/255 and report its accuracy     #\n",
        "##############################################################################\n",
        "from torchattacks import FGSM\n",
        "\n",
        "def evaluate_FGSM_attack(adversary, data_loader):\n",
        "    correct_predictions = 0\n",
        "    total_samples = 0\n",
        "    model.eval()\n",
        "\n",
        "    for images, labels in data_loader:\n",
        "        images, labels = images.to(device), labels.to(device)\n",
        "        adversarial_images = adversary(images, labels)\n",
        "        outputs = model(adversarial_images)\n",
        "        _, predicted = torch.max(outputs.data, 1)\n",
        "\n",
        "        total_samples += labels.size(0)\n",
        "        correct_predictions += (predicted == labels).sum().item()\n",
        "\n",
        "    print(f'Epsilon: {adversary.eps:.6f}, Accuracy: {100 * correct_predictions / total_samples}')\n",
        "\n",
        "\n",
        "\n",
        "epsilon = 1/255\n",
        "attack = FGSM(model, eps=epsilon)\n",
        "evaluate_FGSM_attack(attack, testloader)\n",
        "\n",
        "\n",
        "################################ End #########################################"
      ]
    },
    {
      "cell_type": "code",
      "execution_count": 14,
      "metadata": {
        "colab": {
          "base_uri": "https://localhost:8080/"
        },
        "id": "Lo51_IuDJ4K-",
        "outputId": "d4383477-ebea-48c7-8a01-7468919a774b"
      },
      "outputs": [
        {
          "name": "stdout",
          "output_type": "stream",
          "text": [
            "Epsilon: 0.015686, Accuracy: 23.99\n"
          ]
        }
      ],
      "source": [
        "##############################################################################\n",
        "# run untargeted FGSM attack for epsilon = 4/255 and report its accuracy     #\n",
        "##############################################################################\n",
        "\n",
        "epsilon = 4/255\n",
        "attack = FGSM(model, eps=epsilon)\n",
        "evaluate_FGSM_attack(attack, testloader)\n",
        "\n",
        "\n",
        "\n",
        "\n",
        "################################ End #########################################"
      ]
    },
    {
      "cell_type": "code",
      "execution_count": 15,
      "metadata": {
        "colab": {
          "base_uri": "https://localhost:8080/"
        },
        "id": "WhJg4ZNsJ4K-",
        "outputId": "7a0fd4a2-1f2e-40cb-c26a-e3da04f2cb05"
      },
      "outputs": [
        {
          "name": "stdout",
          "output_type": "stream",
          "text": [
            "Epsilon: 0.031373, Accuracy: 12.39\n"
          ]
        }
      ],
      "source": [
        "##############################################################################\n",
        "# run untargeted FGSM attack for epsilon = 8/255 and report its accuracy     #\n",
        "##############################################################################\n",
        "\n",
        "\n",
        "\n",
        "epsilon = 8/255\n",
        "attack = FGSM(model, eps=epsilon)\n",
        "evaluate_FGSM_attack(attack, testloader)\n",
        "\n",
        "\n",
        "\n",
        "################################ End #########################################"
      ]
    },
    {
      "cell_type": "markdown",
      "metadata": {
        "id": "4p9TMe7yJ4K-"
      },
      "source": [
        "## PGD Attack from scratch (30 pts)"
      ]
    },
    {
      "cell_type": "markdown",
      "metadata": {
        "id": "Apv70dABJ4K-"
      },
      "source": [
        "In this section you should implement PGD attack from scratch."
      ]
    },
    {
      "cell_type": "code",
      "execution_count": 20,
      "metadata": {
        "id": "2oKPDUH2J4K-"
      },
      "outputs": [],
      "source": [
        "import torch\n",
        "import torch.nn.functional as F\n",
        "\n",
        "class LinfPGDAttack(object):\n",
        "\n",
        "    def __init__(self, model, epsilon=8/255, k=2, alpha=2/255):\n",
        "        self.model = model\n",
        "        self.epsilon = epsilon\n",
        "        self.steps = k\n",
        "        self.alpha = alpha\n",
        "\n",
        "    def __call__(self, image, label):\n",
        "        device = torch.device(\"cuda\" if torch.cuda.is_available() else \"cpu\")\n",
        "        image = image.to(device)\n",
        "        label = label.to(device)\n",
        "\n",
        "        out = self.model(image)\n",
        "        _, pred = torch.max(out, 1)\n",
        "\n",
        "        perturbed_image = image.clone()\n",
        "        perturbed_image.requires_grad = True\n",
        "        perturbed_image = perturbed_image.to(device)\n",
        "\n",
        "        if pred.item() == label.item():\n",
        "            ##############################################################################\n",
        "            # Implement a k step PGD attack of size alpha                                #\n",
        "            # while always staying within epsilon distance from the initial point        #\n",
        "            # Use cross entropy loss                                                     #\n",
        "            ##############################################################################\n",
        "\n",
        "            for _ in range(self.steps):\n",
        "                perturbed_image.requires_grad = True\n",
        "                out = self.model(perturbed_image)\n",
        "                loss = F.cross_entropy(out, label)\n",
        "\n",
        "                self.model.zero_grad()\n",
        "                loss.backward()\n",
        "                with torch.no_grad():\n",
        "                    perturbed_image = perturbed_image.data + self.alpha * perturbed_image.grad.data.sign()\n",
        "\n",
        "                    perturbed_image = torch.clamp(perturbed_image, image - self.epsilon, image + self.epsilon)\n",
        "\n",
        "                    perturbed_image = torch.clamp(perturbed_image.data, 0, 1)\n",
        "\n",
        "            ################################ End #########################################\n",
        "\n",
        "        return perturbed_image\n"
      ]
    },
    {
      "cell_type": "code",
      "execution_count": 30,
      "metadata": {
        "colab": {
          "base_uri": "https://localhost:8080/"
        },
        "id": "7t_hb9RrJ4K-",
        "outputId": "fdd197d2-5a58-46fc-ca76-3b27f63a7b69"
      },
      "outputs": [
        {
          "name": "stdout",
          "output_type": "stream",
          "text": [
            "PGD Attack with k=2: Accuracy = 15.34%\n",
            "PGD Attack with k=4: Accuracy = 2.47%\n",
            "PGD Attack with k=8: Accuracy = 0.45%\n"
          ]
        }
      ],
      "source": [
        "##############################################################################\n",
        "# Evaluate PGD attack on the trained model with k=2,4,8                      #\n",
        "##############################################################################\n",
        "\n",
        "k_list = [2,4,8]\n",
        "\n",
        "##############################################################################\n",
        "\n",
        "def evaluate_pgd_attack(model, test_loader, k_list, epsilon=8/255, alpha=2/255):\n",
        "    device = torch.device(\"cuda\" if torch.cuda.is_available() else \"cpu\")\n",
        "    model.to(device)\n",
        "    model.eval()\n",
        "\n",
        "    results = {}\n",
        "    for k in k_list:\n",
        "        pgd_attack = LinfPGDAttack(model, epsilon=epsilon, k=k, alpha=alpha)\n",
        "        correct = 0\n",
        "        total = 0\n",
        "\n",
        "        for images, labels in test_loader:\n",
        "            images, labels = images.to(device), labels.to(device)\n",
        "\n",
        "            for i in range(images.size(0)):\n",
        "                image = images[i].unsqueeze(0)\n",
        "                label = labels[i].unsqueeze(0)\n",
        "                adv_image = pgd_attack(image, label)\n",
        "                outputs = model(adv_image)\n",
        "                predicted = torch.argmax(outputs, dim=1)\n",
        "                total += label.size(0)\n",
        "                correct += (predicted == label).sum().item()\n",
        "\n",
        "        accuracy = 100 * correct / total\n",
        "        results[k] = accuracy\n",
        "        print(f'PGD Attack with k={k}: Accuracy = {accuracy:.2f}%')\n",
        "\n",
        "    return results\n",
        "\n",
        "results = evaluate_pgd_attack(model, testloader, k_list)\n",
        "\n",
        "################################ End #########################################"
      ]
    },
    {
      "cell_type": "markdown",
      "metadata": {
        "id": "_TUxTWTmJ4K-"
      },
      "source": [
        "## Visualization (10 pts)"
      ]
    },
    {
      "cell_type": "markdown",
      "metadata": {
        "id": "7wmsO2IxJ4K-"
      },
      "source": [
        "Implement a function to plot the original image, the perturbed imaged and their predicted labels by the model"
      ]
    },
    {
      "cell_type": "code",
      "execution_count": 13,
      "metadata": {
        "id": "wnjZwov1J4K-"
      },
      "outputs": [],
      "source": [
        "##############################################################################\n",
        "# Implement the function described                                           #\n",
        "##############################################################################\n",
        "\n",
        "\n",
        "import matplotlib.pyplot as plt\n",
        "import torch\n",
        "import torchvision.transforms as transforms\n",
        "\n",
        "def plot_images_with_predictions(original_image, perturbed_image, label, pred_label):\n",
        "\n",
        "    original_image = original_image.squeeze().cpu().numpy().transpose((1, 2, 0))\n",
        "    perturbed_image = perturbed_image.squeeze().cpu().numpy().transpose((1, 2, 0))\n",
        "\n",
        "    fig, axes = plt.subplots(1, 2, figsize=(10, 5))\n",
        "\n",
        "    axes[0].imshow(original_image)\n",
        "    axes[0].set_title(f'Original Image\\nTrue: {label}')\n",
        "    axes[0].axis('off')\n",
        "\n",
        "    axes[1].imshow(perturbed_image)\n",
        "    axes[1].set_title(f'Perturbed Image\\nPredicted: {pred_label}')\n",
        "    axes[1].axis('off')\n",
        "\n",
        "    plt.show()\n",
        "\n",
        "\n",
        "\n",
        "\n",
        "################################ End #########################################"
      ]
    },
    {
      "cell_type": "code",
      "execution_count": 50,
      "metadata": {
        "colab": {
          "base_uri": "https://localhost:8080/",
          "height": 1000
        },
        "id": "IDQ183IQJ4K_",
        "outputId": "122a4dd1-fda8-4580-bee5-90bfc0fb25e4"
      },
      "outputs": [
        {
          "data": {
            "image/png": "[encoded data removed]",
            "text/plain": [
              "<Figure size 1000x500 with 2 Axes>"
            ]
          },
          "metadata": {},
          "output_type": "display_data"
        },
        {
          "data": {
            "image/png": "[encoded data removed]",
            "text/plain": [
              "<Figure size 1000x500 with 2 Axes>"
            ]
          },
          "metadata": {},
          "output_type": "display_data"
        },
        {
          "data": {
            "image/png": "[encoded data removed]",
            "text/plain": [
              "<Figure size 1000x500 with 2 Axes>"
            ]
          },
          "metadata": {},
          "output_type": "display_data"
        }
      ],
      "source": [
        "##############################################################################\n",
        "# Choose 3 random images from testset and run FGSM attack and visualize      #\n",
        "##############################################################################\n",
        "import random\n",
        "\n",
        "epsilon = 8/255\n",
        "fgsm = FGSM(model, eps=epsilon)\n",
        "model.eval()\n",
        "\n",
        "all_images, all_labels = next(iter(testloader))\n",
        "random_indices_FGSM = random.sample(range(len(all_images)), 3)\n",
        "example_images_FGSM = all_images[random_indices_FGSM]\n",
        "example_labels_FGSM = all_labels[random_indices_FGSM]\n",
        "\n",
        "for i in range(3):\n",
        "    image = example_images_FGSM[i].to(device)\n",
        "    label = torch.tensor([example_labels_FGSM[i]]).to(device)\n",
        "    image = image.unsqueeze(0).to(device)\n",
        "    adv_image = fgsm(image, label)\n",
        "    original_output = model(image)\n",
        "    perturbed_output = model(adv_image)\n",
        "    original_pred = torch.argmax(original_output, dim=1).item()\n",
        "    perturbed_pred = torch.argmax(perturbed_output, dim=1).item()\n",
        "    plot_images_with_predictions(image, adv_image, classes[original_pred], classes[perturbed_pred])\n",
        "\n",
        "\n",
        "################################ End #########################################"
      ]
    },
    {
      "cell_type": "code",
      "execution_count": 22,
      "metadata": {
        "colab": {
          "base_uri": "https://localhost:8080/",
          "height": 1000
        },
        "id": "pa-A6UquJ4K_",
        "outputId": "b559eebc-368d-4615-e024-3e6d4c323098"
      },
      "outputs": [
        {
          "data": {
            "image/png": "[encoded data removed]",
            "text/plain": [
              "<Figure size 1000x500 with 2 Axes>"
            ]
          },
          "metadata": {},
          "output_type": "display_data"
        },
        {
          "data": {
            "image/png": "[encoded data removed]",
            "text/plain": [
              "<Figure size 1000x500 with 2 Axes>"
            ]
          },
          "metadata": {},
          "output_type": "display_data"
        },
        {
          "data": {
            "image/png": "[encoded data removed]",
            "text/plain": [
              "<Figure size 1000x500 with 2 Axes>"
            ]
          },
          "metadata": {},
          "output_type": "display_data"
        }
      ],
      "source": [
        "##############################################################################\n",
        "# Choose 3 random images from testset and run PGD attack and visualize      #\n",
        "##############################################################################\n",
        "\n",
        "\n",
        "\n",
        "import random\n",
        "\n",
        "pgd_attack = LinfPGDAttack(model, epsilon=8/255, k=2, alpha=2/255)\n",
        "model.eval()\n",
        "\n",
        "all_images, all_labels = next(iter(testloader))\n",
        "random_indices_FGSM = random.sample(range(len(all_images)), 3)\n",
        "example_images_FGSM = all_images[random_indices_FGSM]\n",
        "example_labels_FGSM = all_labels[random_indices_FGSM]\n",
        "\n",
        "for i in range(3):\n",
        "    image = example_images_FGSM[i].to(device)\n",
        "    label = torch.tensor([example_labels_FGSM[i]]).to(device)\n",
        "    image = image.unsqueeze(0).to(device)\n",
        "    adv_image = pgd_attack(image, label)\n",
        "    original_output = model(image)\n",
        "    perturbed_output = model(adv_image)\n",
        "    original_pred = torch.argmax(original_output, dim=1).item()\n",
        "    perturbed_pred = torch.argmax(perturbed_output, dim=1).item()\n",
        "    plot_images_with_predictions(image, adv_image, classes[original_pred], classes[perturbed_pred])\n",
        "\n",
        "\n",
        "\n",
        "################################ End #########################################"
      ]
    },
    {
      "cell_type": "markdown",
      "metadata": {
        "id": "HUOK9cjwJ4K_"
      },
      "source": [
        "## Adversarial Training (35 pts)"
      ]
    },
    {
      "cell_type": "markdown",
      "metadata": {
        "id": "7bE6kcB2J4K_"
      },
      "source": [
        "In this section you are going to adversarially train your model and see the results."
      ]
    },
    {
      "cell_type": "code",
      "execution_count": 16,
      "metadata": {
        "id": "2ctBUkGOJ4K_"
      },
      "outputs": [
        {
          "name": "stdout",
          "output_type": "stream",
          "text": [
            "Epoch [1/100], Loss: 2.1251\n",
            "Epoch [2/100], Loss: 1.9905\n",
            "Epoch [3/100], Loss: 1.9359\n",
            "Epoch [4/100], Loss: 1.8962\n",
            "Epoch [5/100], Loss: 1.8491\n",
            "Epoch [6/100], Loss: 1.8195\n",
            "Epoch [7/100], Loss: 1.7816\n",
            "Epoch [8/100], Loss: 1.7536\n",
            "Epoch [9/100], Loss: 1.7174\n",
            "Epoch [10/100], Loss: 1.6893\n",
            "Epoch [11/100], Loss: 1.6523\n",
            "Epoch [12/100], Loss: 1.6185\n",
            "Epoch [13/100], Loss: 1.5836\n",
            "Epoch [14/100], Loss: 1.5505\n",
            "Epoch [15/100], Loss: 1.5126\n",
            "Epoch [16/100], Loss: 1.4804\n",
            "Epoch [17/100], Loss: 1.4387\n",
            "Epoch [18/100], Loss: 1.3992\n",
            "Epoch [19/100], Loss: 1.3583\n",
            "Epoch [20/100], Loss: 1.3165\n",
            "Epoch [21/100], Loss: 1.2805\n",
            "Epoch [22/100], Loss: 1.2436\n",
            "Epoch [23/100], Loss: 1.2022\n",
            "Epoch [24/100], Loss: 1.1668\n",
            "Epoch [25/100], Loss: 1.1225\n",
            "Epoch [26/100], Loss: 1.0908\n",
            "Epoch [27/100], Loss: 1.0538\n",
            "Epoch [28/100], Loss: 1.0178\n",
            "Epoch [29/100], Loss: 0.9925\n",
            "Epoch [30/100], Loss: 0.9568\n",
            "Epoch [31/100], Loss: 0.9275\n",
            "Epoch [32/100], Loss: 0.8987\n",
            "Epoch [33/100], Loss: 0.8576\n",
            "Epoch [34/100], Loss: 0.8390\n",
            "Epoch [35/100], Loss: 0.8170\n",
            "Epoch [36/100], Loss: 0.7903\n",
            "Epoch [37/100], Loss: 0.7704\n",
            "Epoch [38/100], Loss: 0.7383\n",
            "Epoch [39/100], Loss: 0.7216\n",
            "Epoch [40/100], Loss: 0.7046\n",
            "Epoch [41/100], Loss: 0.6775\n",
            "Epoch [42/100], Loss: 0.6502\n",
            "Epoch [43/100], Loss: 0.6320\n",
            "Epoch [44/100], Loss: 0.6195\n",
            "Epoch [45/100], Loss: 0.5965\n",
            "Epoch [46/100], Loss: 0.5830\n",
            "Epoch [47/100], Loss: 0.5593\n",
            "Epoch [48/100], Loss: 0.5519\n",
            "Epoch [49/100], Loss: 0.5269\n",
            "Epoch [50/100], Loss: 0.5229\n",
            "Epoch [51/100], Loss: 0.4996\n",
            "Epoch [52/100], Loss: 0.4806\n",
            "Epoch [53/100], Loss: 0.4713\n",
            "Epoch [54/100], Loss: 0.4571\n",
            "Epoch [55/100], Loss: 0.4476\n",
            "Epoch [56/100], Loss: 0.4284\n",
            "Epoch [57/100], Loss: 0.4208\n",
            "Epoch [58/100], Loss: 0.4079\n",
            "Epoch [59/100], Loss: 0.3829\n",
            "Epoch [60/100], Loss: 0.3830\n",
            "Epoch [61/100], Loss: 0.3781\n",
            "Epoch [62/100], Loss: 0.3810\n",
            "Epoch [63/100], Loss: 0.3572\n",
            "Epoch [64/100], Loss: 0.3575\n",
            "Epoch [65/100], Loss: 0.3432\n",
            "Epoch [66/100], Loss: 0.3245\n",
            "Epoch [67/100], Loss: 0.3271\n",
            "Epoch [68/100], Loss: 0.3169\n",
            "Epoch [69/100], Loss: 0.3045\n",
            "Epoch [70/100], Loss: 0.2960\n",
            "Epoch [71/100], Loss: 0.3004\n",
            "Epoch [72/100], Loss: 0.2935\n",
            "Epoch [73/100], Loss: 0.2734\n",
            "Epoch [74/100], Loss: 0.2668\n",
            "Epoch [75/100], Loss: 0.2676\n",
            "Epoch [76/100], Loss: 0.2550\n",
            "Epoch [77/100], Loss: 0.2548\n",
            "Epoch [78/100], Loss: 0.2363\n",
            "Epoch [79/100], Loss: 0.2517\n",
            "Epoch [80/100], Loss: 0.2397\n",
            "Epoch [81/100], Loss: 0.2430\n",
            "Epoch [82/100], Loss: 0.2247\n",
            "Epoch [83/100], Loss: 0.2108\n",
            "Epoch [84/100], Loss: 0.2123\n",
            "Epoch [85/100], Loss: 0.1914\n",
            "Epoch [86/100], Loss: 0.2016\n",
            "Epoch [87/100], Loss: 0.2010\n",
            "Epoch [88/100], Loss: 0.2023\n",
            "Epoch [89/100], Loss: 0.1963\n",
            "Epoch [90/100], Loss: 0.1835\n",
            "Epoch [91/100], Loss: 0.1784\n",
            "Epoch [92/100], Loss: 0.1841\n",
            "Epoch [93/100], Loss: 0.1826\n",
            "Epoch [94/100], Loss: 0.1674\n",
            "Epoch [95/100], Loss: 0.1647\n",
            "Epoch [96/100], Loss: 0.1804\n",
            "Epoch [97/100], Loss: 0.1671\n",
            "Epoch [98/100], Loss: 0.1652\n",
            "Epoch [99/100], Loss: 0.1555\n",
            "Epoch [100/100], Loss: 0.1417\n"
          ]
        }
      ],
      "source": [
        "##############################################################################\n",
        "# Load a new resnet model for adversarial training                           #\n",
        "# Train the model on perturbed images from                                   #\n",
        "# untargeted FGSM attack with epsilon = 8/255 on train dataset               #\n",
        "# Also use the following setup for training the model                        #\n",
        "##############################################################################\n",
        "\n",
        "from torchattacks import FGSM\n",
        "\n",
        "adv_model = resnet(num_cls=10) # Your code goes here\n",
        "adv_model.to(device)\n",
        "\n",
        "learning_rate = 0.01\n",
        "criterion = nn.CrossEntropyLoss()\n",
        "optimizer = optim.SGD(adv_model.parameters(), lr=learning_rate, momentum=0.9)\n",
        "epochs = 100\n",
        "\n",
        "\n",
        "# Your code goes here\n",
        "\n",
        "adv_model.train()\n",
        "epsilon = 8/255\n",
        "fgsm_attack = FGSM(adv_model, eps=epsilon)\n",
        "\n",
        "for epoch in range(epochs):\n",
        "    running_loss = 0.0\n",
        "    for images, labels in trainloader:\n",
        "        images, labels = images.to(device), labels.to(device)\n",
        "\n",
        "        perturbed_images = fgsm_attack(images, labels)\n",
        "\n",
        "        optimizer.zero_grad()\n",
        "\n",
        "        outputs = adv_model(perturbed_images)\n",
        "        loss = criterion(outputs, labels)\n",
        "\n",
        "        loss.backward()\n",
        "        optimizer.step()\n",
        "\n",
        "        running_loss += loss.item()\n",
        "\n",
        "    print(f'Epoch [{epoch+1}/{epochs}], Loss: {running_loss/len(trainloader):.4f}')\n",
        "\n",
        "################################ End #########################################"
      ]
    },
    {
      "cell_type": "code",
      "execution_count": 17,
      "metadata": {
        "id": "Am9llnVXJ4K_"
      },
      "outputs": [
        {
          "name": "stdout",
          "output_type": "stream",
          "text": [
            "Accuracy: 60.95%\n"
          ]
        }
      ],
      "source": [
        "##############################################################################\n",
        "# Evaluate the new model on the test dataset                                 #\n",
        "##############################################################################\n",
        "\n",
        "# Your code goes here\n",
        "\n",
        "def evaluate_model(model, data_loader):\n",
        "    device = torch.device(\"cuda\" if torch.cuda.is_available() else \"cpu\")\n",
        "    model.to(device)\n",
        "    model.eval()\n",
        "\n",
        "    correct = 0\n",
        "    total = 0\n",
        "\n",
        "    with torch.no_grad():\n",
        "        for images, labels in data_loader:\n",
        "            images, labels = images.to(device), labels.to(device)\n",
        "            outputs = model(images)\n",
        "            _, predicted = torch.max(outputs.data, 1)\n",
        "            total += labels.size(0)\n",
        "            correct += (predicted == labels).sum().item()\n",
        "\n",
        "    accuracy = 100 * correct / total\n",
        "    print(f'Accuracy: {accuracy:.2f}%')\n",
        "\n",
        "evaluate_model(adv_model, testloader)\n",
        "\n",
        "################################ End #########################################"
      ]
    },
    {
      "cell_type": "code",
      "execution_count": 18,
      "metadata": {
        "id": "LGYqrdMzJ4LA"
      },
      "outputs": [
        {
          "name": "stdout",
          "output_type": "stream",
          "text": [
            "Accuracy: 23.69%\n"
          ]
        }
      ],
      "source": [
        "##############################################################################\n",
        "# Run FGSM attack on the adversarially trained model with epsilon = 8/255    #\n",
        "##############################################################################\n",
        "\n",
        "# Your code goes here\n",
        "\n",
        "def FGSM_attack(model, data_loader, attack):\n",
        "    device = torch.device(\"cuda\" if torch.cuda.is_available() else \"cpu\")\n",
        "    model.to(device)\n",
        "    model.eval()\n",
        "\n",
        "    correct = 0\n",
        "    total = 0\n",
        "\n",
        "    for images, labels in data_loader:\n",
        "        images, labels = images.to(device), labels.to(device)\n",
        "        adv_images = attack(images, labels)\n",
        "        outputs = model(adv_images)\n",
        "        _, predicted = torch.max(outputs.data, 1)\n",
        "        total += labels.size(0)\n",
        "        correct += (predicted == labels).sum().item()\n",
        "\n",
        "    accuracy = 100 * correct / total\n",
        "    print(f'Accuracy: {accuracy:.2f}%')\n",
        "\n",
        "\n",
        "epsilon = 8/255\n",
        "attack = FGSM(adv_model, eps=epsilon)\n",
        "FGSM_attack(adv_model, testloader, attack)\n",
        "\n",
        "\n",
        "################################ End #########################################"
      ]
    },
    {
      "cell_type": "code",
      "execution_count": 21,
      "metadata": {
        "id": "aZN6QIhIJ4LA"
      },
      "outputs": [
        {
          "name": "stdout",
          "output_type": "stream",
          "text": [
            "Accuracy: 10.13%\n"
          ]
        }
      ],
      "source": [
        "##############################################################################\n",
        "#  Run PGD attack on the adversarially trained model with k=4                #\n",
        "##############################################################################\n",
        "\n",
        "# Your code goes here\n",
        "\n",
        "def PGD_attack(model, data_loader, attack):\n",
        "    device = torch.device(\"cuda\" if torch.cuda.is_available() else \"cpu\")\n",
        "    model.to(device)\n",
        "    model.eval()\n",
        "\n",
        "    correct = 0\n",
        "    total = 0\n",
        "\n",
        "    for images, labels in data_loader:\n",
        "        images, labels = images.to(device), labels.to(device)\n",
        "        for i in range(images.size(0)):\n",
        "            image = images[i].unsqueeze(0)\n",
        "            label = labels[i].unsqueeze(0)\n",
        "            adv_images = attack(image, label)\n",
        "            outputs = model(adv_images)\n",
        "            _, predicted = torch.max(outputs.data, 1)\n",
        "            total += labels.size(0)\n",
        "            correct += (predicted == labels).sum().item()\n",
        "\n",
        "    accuracy = 100 * correct / total\n",
        "    print(f'Accuracy: {accuracy:.2f}%')\n",
        "\n",
        "\n",
        "epsilon = 8/255\n",
        "alpha = 2 / 255\n",
        "attack = LinfPGDAttack(adv_model, epsilon=epsilon, k=4, alpha=alpha)\n",
        "PGD_attack(adv_model, testloader, attack)\n",
        "\n",
        "################################ End #########################################"
      ]
    },
    {
      "cell_type": "markdown",
      "metadata": {
        "id": "2e4i8J2WJ4LA"
      },
      "source": [
        "Answer the following questions:\n",
        "- What happened to the accuracy of the adversarially trained model?\n",
        "The accuracy of the adversarially trained model on clean data was slightly lower than that of a normally trained model because the adversarial training process can introduce some regularization effects that slightly degrade performance on clean data and The accuracy of the adversarially trained model on adversarial data was significantly higher compared to a non-adversarially trained model. This is because the model has learned to recognize and correctly classify inputs even when small adversarial perturbations are present.\n",
        "- What do you conclude from the result of the FGSM attack on the adversarially trained model?\n",
        "An adversarially trained model should show higher resilience to FGSM attacks compared to a non-adversarially trained model. This means that the decrease in accuracy when subjected to FGSM attacks was less pronounced for the adversarially trained model.\n",
        "- What do you conclude from the result of the PGD attack on the adversarially trained model?\n",
        "The accuracy of the adversarially trained model under PGD attacks was lower than under FGSM attacks because PGD is a stronger attack\n",
        "- What is you final conclusion?\n",
        "Adversarial training significantly enhances the robustness of the model against adversarial attacks like FGSM and PGD and the adversarially trained model demonstrates resilience to common adversarial attacks"
      ]
    }
  ],
  "metadata": {
    "accelerator": "GPU",
    "colab": {
      "gpuType": "T4",
      "provenance": []
    },
    "interpreter": {
      "hash": "6781fb91069782cbef68c1814577c310349b834927b6149c2c4a3fd8b565d197"
    },
    "kernelspec": {
      "display_name": "Python 3.11.7 ('clip-project': conda)",
      "language": "python",
      "name": "python3"
    },
    "language_info": {
      "codemirror_mode": {
        "name": "ipython",
        "version": 3
      },
      "file_extension": ".py",
      "mimetype": "text/x-python",
      "name": "python",
      "nbconvert_exporter": "python",
      "pygments_lexer": "ipython3",
      "version": "3.11.7"
    }
  },
  "nbformat": 4,
  "nbformat_minor": 0
}
